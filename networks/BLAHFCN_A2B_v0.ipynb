{
 "cells": [
  {
   "cell_type": "code",
   "execution_count": 1,
   "metadata": {},
   "outputs": [],
   "source": [
    "import os\n",
    "import numpy as np\n",
    "from scipy.io import loadmat,savemat\n",
    "import nibabel as nib\n",
    "\n",
    "import matplotlib.pyplot as plt\n",
    "\n",
    "import torch\n",
    "\n"
   ]
  },
  {
   "cell_type": "markdown",
   "metadata": {},
   "source": [
    "We are going to Read Nifti Files below"
   ]
  },
  {
   "cell_type": "code",
   "execution_count": 2,
   "metadata": {},
   "outputs": [],
   "source": [
    "nifti_path = r'/Users/kurtschilling/Data/harmonization/sA/A/norm_dwi_SHfitOrder4_EvenOdd2_SH3000.nii.gz'\n",
    "nifti_path = os.path.normpath(nifti_path)\n",
    "\n",
    "img = nib.load(nifti_path)\n",
    "data = img.get_fdata()"
   ]
  },
  {
   "cell_type": "code",
   "execution_count": 3,
   "metadata": {},
   "outputs": [
    {
     "data": {
      "text/plain": [
       "(96, 96, 60, 15)"
      ]
     },
     "execution_count": 3,
     "metadata": {},
     "output_type": "execute_result"
    }
   ],
   "source": [
    "data.shape"
   ]
  },
  {
   "cell_type": "code",
   "execution_count": 4,
   "metadata": {},
   "outputs": [
    {
     "data": {
      "image/png": "[encoded data removed]",
      "text/plain": [
       "<Figure size 432x288 with 1 Axes>"
      ]
     },
     "metadata": {
      "needs_background": "light"
     },
     "output_type": "display_data"
    }
   ],
   "source": [
    "mid_slice = data.shape[2] // 2\n",
    "plt.imshow(data[:,:,mid_slice,0].T, cmap='gray', origin='lower')\n",
    "plt.show()\n"
   ]
  },
  {
   "cell_type": "code",
   "execution_count": 5,
   "metadata": {},
   "outputs": [
    {
     "data": {
      "text/plain": [
       "(96, 96, 60)"
      ]
     },
     "execution_count": 5,
     "metadata": {},
     "output_type": "execute_result"
    }
   ],
   "source": [
    "# Mask Path and Loading\n",
    "mask_path = r'/Users/kurtschilling/Data/harmonization/sA/A/mask.nii.gz'\n",
    "mask_path = os.path.normpath(mask_path)\n",
    "\n",
    "mask_img = nib.load(mask_path)\n",
    "mask = mask_img.get_fdata()\n",
    "mask.shape"
   ]
  },
  {
   "cell_type": "code",
   "execution_count": 6,
   "metadata": {},
   "outputs": [
    {
     "name": "stdout",
     "output_type": "stream",
     "text": [
      "Dimension of the Mask are \n",
      "\n",
      "(96, 96, 60)\n"
     ]
    }
   ],
   "source": [
    "dims = mask.shape\n",
    "print('Dimension of the Mask are \\n')\n",
    "print(dims)"
   ]
  },
  {
   "cell_type": "code",
   "execution_count": 7,
   "metadata": {},
   "outputs": [
    {
     "data": {
      "image/png": "[encoded data removed]",
      "text/plain": [
       "<Figure size 432x288 with 1 Axes>"
      ]
     },
     "metadata": {
      "needs_background": "light"
     },
     "output_type": "display_data"
    }
   ],
   "source": [
    "out_path = r'/Users/kurtschilling/Data/harmonization/sA/B/norm_dwi_SHfitOrder4_EvenOdd2_SH3000.nii.gz'\n",
    "out_path = os.path.normpath(out_path)\n",
    "\n",
    "o_img = nib.load(out_path)\n",
    "o_data = o_img.get_fdata()\n",
    "\n",
    "mid_slice = o_data.shape[2] // 2\n",
    "plt.imshow(o_data[:,:,mid_slice,0].T, cmap='gray', origin='lower')\n",
    "plt.show()"
   ]
  },
  {
   "cell_type": "code",
   "execution_count": 8,
   "metadata": {},
   "outputs": [
    {
     "name": "stdout",
     "output_type": "stream",
     "text": [
      "84365\n",
      "(84365, 15)\n",
      "(84365, 15)\n"
     ]
    }
   ],
   "source": [
    "num = np.count_nonzero(mask)\n",
    "print(num)\n",
    "\n",
    "X = np.zeros((num,15))\n",
    "Y = np.zeros((num,15))\n",
    "index = 0\n",
    "for i in range(dims[0]):\n",
    "    for j in range(dims[1]):\n",
    "        for k in range(dims[2]):\n",
    "            if (mask[i,j,k] == 1):\n",
    "                \n",
    "                temp_sh_ip = data[i,j,k,:]\n",
    "                temp = np.array(temp_sh_ip)\n",
    "                temp = temp.T\n",
    "                \n",
    "                temp_sh_ip2 = o_data[i,j,k,:]\n",
    "                temp2 = np.array(temp_sh_ip2)\n",
    "                temp2 = temp2.T\n",
    "                #print(temp_sh_ip.shape)\n",
    "                \n",
    "                X[index,:] = temp\n",
    "                Y[index,:] = temp2\n",
    "                index += 1\n",
    "                \n",
    "print(X.shape)\n",
    "print(Y.shape)\n",
    "            "
   ]
  },
  {
   "cell_type": "code",
   "execution_count": 9,
   "metadata": {},
   "outputs": [
    {
     "name": "stdout",
     "output_type": "stream",
     "text": [
      "[[ 9.49691653e-01 -9.89384502e-02  5.22220209e-02 ... -2.21090559e-02\n",
      "   1.10347029e-02 -1.92060880e-02]\n",
      " [ 5.98976552e-01 -8.14628676e-02 -1.19196605e-02 ...  3.89557481e-02\n",
      "   5.74630406e-03  2.00435461e-04]\n",
      " [ 3.46236497e-01 -6.38311282e-02  3.00795436e-02 ... -4.52243164e-03\n",
      "   8.28683376e-03 -4.06144653e-03]\n",
      " ...\n",
      " [ 3.16777974e-01  1.48995090e-02  1.26995631e-02 ... -4.44003567e-03\n",
      "   2.39976961e-03  7.61558302e-03]\n",
      " [ 4.25807983e-01  7.04439729e-03  6.93444163e-03 ... -7.19416374e-03\n",
      "  -3.84271145e-03 -5.12936525e-03]\n",
      " [ 3.91384780e-01 -3.29091772e-03 -2.45311167e-02 ...  7.04144314e-03\n",
      "   2.81537976e-03  2.14731134e-03]]\n",
      "float64\n",
      "[ 1.17918275e-01 -2.82259658e-02 -1.36122108e-05 -9.43136029e-03\n",
      "  2.70258822e-03 -1.51425917e-02 -1.52670755e-03 -5.72741637e-03\n",
      "  1.59437058e-03 -4.90370672e-03  1.26289763e-03  3.49763315e-04\n",
      "  1.24182412e-03  8.00523162e-03  4.79844073e-03]\n"
     ]
    }
   ],
   "source": [
    "print(X)\n",
    "print(X.dtype)\n",
    "print(X[12,:])"
   ]
  },
  {
   "cell_type": "code",
   "execution_count": 10,
   "metadata": {},
   "outputs": [
    {
     "name": "stdout",
     "output_type": "stream",
     "text": [
      "[[ 3.31935108e-01 -1.62949245e-02 -1.75707005e-02 ...  1.30695011e-03\n",
      "   1.53167825e-03 -3.45649128e-03]\n",
      " [ 4.22008395e-01 -1.61839109e-02  1.75551195e-02 ...  5.78307966e-03\n",
      "  -4.86385310e-03 -7.69814593e-04]\n",
      " [ 4.09705073e-01 -2.72899829e-02 -5.67432866e-03 ...  2.61530280e-04\n",
      "  -8.84804875e-04  4.88408084e-04]\n",
      " ...\n",
      " [ 5.01835287e-01 -6.50745537e-03  3.47751714e-02 ... -1.56805990e-03\n",
      "  -1.27911568e-04  6.38413196e-03]\n",
      " [ 4.42578048e-01 -3.79809029e-02 -8.91749002e-03 ... -2.91226059e-03\n",
      "   3.27009801e-03  2.13469670e-04]\n",
      " [ 3.36586356e-01 -1.90302394e-02 -1.91237833e-02 ...  7.72789260e-03\n",
      "   3.87520995e-03  6.25888235e-04]]\n",
      "float64\n"
     ]
    }
   ],
   "source": [
    "print(Y)\n",
    "print(Y.dtype)"
   ]
  },
  {
   "cell_type": "code",
   "execution_count": 11,
   "metadata": {},
   "outputs": [],
   "source": [
    "x = torch.Tensor(2,3)"
   ]
  },
  {
   "cell_type": "code",
   "execution_count": 12,
   "metadata": {},
   "outputs": [
    {
     "data": {
      "text/plain": [
       "tensor([[ 0.0000e+00,  8.5899e+09, -2.5382e+06],\n",
       "        [ 2.0005e+00,  4.2981e+21,  6.3828e+28]])"
      ]
     },
     "execution_count": 12,
     "metadata": {},
     "output_type": "execute_result"
    }
   ],
   "source": [
    "x"
   ]
  },
  {
   "cell_type": "code",
   "execution_count": 13,
   "metadata": {},
   "outputs": [],
   "source": [
    "import torch.nn as nn\n",
    "import torch.nn.functional as F\n",
    "from torch import optim\n",
    "from torch.utils.data import Dataset\n",
    "from torch.autograd import Variable\n",
    "from torchvision import transforms"
   ]
  },
  {
   "cell_type": "code",
   "execution_count": 157,
   "metadata": {},
   "outputs": [
    {
     "name": "stdout",
     "output_type": "stream",
     "text": [
      "Net(\n",
      "  (fc1): Linear(in_features=15, out_features=400, bias=True)\n",
      "  (fc2): Linear(in_features=400, out_features=200, bias=True)\n",
      "  (fc3): Linear(in_features=200, out_features=50, bias=True)\n",
      "  (fc4): Linear(in_features=50, out_features=200, bias=True)\n",
      "  (fc5): Linear(in_features=200, out_features=15, bias=True)\n",
      ")\n"
     ]
    }
   ],
   "source": [
    "class Net(nn.Module):\n",
    "    def __init__(self):\n",
    "        super(Net, self).__init__()\n",
    "        self.fc1 = nn.Linear(1 * 15, 400)\n",
    "        self.fc2 = nn.Linear(400,200)\n",
    "        self.fc3 = nn.Linear(200,50)\n",
    "        self.fc4 = nn.Linear(50,200)\n",
    "        self.fc5 = nn.Linear(200,15)\n",
    "        \n",
    "def forward(self, x):\n",
    "    x = F.relu(self.fc1(x))\n",
    "    x = F.relu(self.fc2(x))\n",
    "    x = F.relu(self.fc3(x))\n",
    "    x = F.relu(self.fc4(x))\n",
    "    x = self.fc5(x)\n",
    "    return F.linear(x)\n",
    "        \n",
    "net = Net()\n",
    "print(net)  \n",
    "\n",
    "optimizer = optim.SGD(net.parameters(), lr=0.001, momentum=0.9)\n",
    "criterion = nn.MSELoss()"
   ]
  },
  {
   "cell_type": "code",
   "execution_count": 158,
   "metadata": {},
   "outputs": [],
   "source": [
    "class SHDataSet(Dataset):\n",
    "    def __init__(self,X,Y):\n",
    "        \n",
    "        self.X = X\n",
    "        self.Y = Y\n",
    "        self.to_tensor = transforms.ToTensor()\n",
    "        \n",
    "    def __len__(self):\n",
    "        return len(self.X)\n",
    "    \n",
    "    def __getitem__(self, i):\n",
    "        \n",
    "        vec_a = np.reshape(self.X[i,:],(15, 1, 1))\n",
    "        vec_b = np.reshape(self.Y[i,:],(15, 1, 1))\n",
    "        a = self.to_tensor(vec_a)\n",
    "        b = self.to_tensor(vec_b)\n",
    "    \n",
    "        return a,b"
   ]
  },
  {
   "cell_type": "code",
   "execution_count": 159,
   "metadata": {},
   "outputs": [],
   "source": [
    "shset = SHDataSet(X,Y)"
   ]
  },
  {
   "cell_type": "code",
   "execution_count": 160,
   "metadata": {},
   "outputs": [
    {
     "data": {
      "text/plain": [
       "(tensor([[[ 0.1179],\n",
       "          [-0.0282],\n",
       "          [-0.0000],\n",
       "          [-0.0094],\n",
       "          [ 0.0027],\n",
       "          [-0.0151],\n",
       "          [-0.0015],\n",
       "          [-0.0057],\n",
       "          [ 0.0016],\n",
       "          [-0.0049],\n",
       "          [ 0.0013],\n",
       "          [ 0.0003],\n",
       "          [ 0.0012],\n",
       "          [ 0.0080],\n",
       "          [ 0.0048]]], dtype=torch.float64), tensor([[[ 0.2906],\n",
       "          [-0.0119],\n",
       "          [ 0.0024],\n",
       "          [ 0.0211],\n",
       "          [ 0.0041],\n",
       "          [ 0.0041],\n",
       "          [ 0.0029],\n",
       "          [ 0.0023],\n",
       "          [-0.0040],\n",
       "          [ 0.0001],\n",
       "          [ 0.0005],\n",
       "          [-0.0003],\n",
       "          [-0.0029],\n",
       "          [ 0.0017],\n",
       "          [ 0.0022]]], dtype=torch.float64))"
      ]
     },
     "execution_count": 160,
     "metadata": {},
     "output_type": "execute_result"
    }
   ],
   "source": [
    "shset.X\n",
    "m = shset.X[12,:]\n",
    "m.shape\n",
    "n = np.reshape(m,(-1, 15))\n",
    "n.shape\n",
    "#m.shape\n",
    "shset[12]"
   ]
  },
  {
   "cell_type": "code",
   "execution_count": 161,
   "metadata": {},
   "outputs": [
    {
     "data": {
      "text/plain": [
       "Net(\n",
       "  (fc1): Linear(in_features=15, out_features=400, bias=True)\n",
       "  (fc2): Linear(in_features=400, out_features=200, bias=True)\n",
       "  (fc3): Linear(in_features=200, out_features=50, bias=True)\n",
       "  (fc4): Linear(in_features=50, out_features=200, bias=True)\n",
       "  (fc5): Linear(in_features=200, out_features=15, bias=True)\n",
       ")"
      ]
     },
     "execution_count": 161,
     "metadata": {},
     "output_type": "execute_result"
    }
   ],
   "source": [
    "net.train()"
   ]
  },
  {
   "cell_type": "code",
   "execution_count": 163,
   "metadata": {},
   "outputs": [
    {
     "name": "stdout",
     "output_type": "stream",
     "text": [
      "0\n",
      "0\n"
     ]
    },
    {
     "ename": "NotImplementedError",
     "evalue": "",
     "output_type": "error",
     "traceback": [
      "\u001b[0;31m---------------------------------------------------------------------------\u001b[0m",
      "\u001b[0;31mNotImplementedError\u001b[0m                       Traceback (most recent call last)",
      "\u001b[0;32m<ipython-input-163-30202ded2596>\u001b[0m in \u001b[0;36m<module>\u001b[0;34m()\u001b[0m\n\u001b[1;32m      9\u001b[0m         \u001b[0mdata\u001b[0m \u001b[0;34m=\u001b[0m \u001b[0mdata\u001b[0m\u001b[0;34m.\u001b[0m\u001b[0mview\u001b[0m\u001b[0;34m(\u001b[0m\u001b[0;36m1\u001b[0m\u001b[0;34m,\u001b[0m \u001b[0;36m1\u001b[0m\u001b[0;34m*\u001b[0m\u001b[0;36m15\u001b[0m\u001b[0;34m)\u001b[0m\u001b[0;34m\u001b[0m\u001b[0m\n\u001b[1;32m     10\u001b[0m         \u001b[0moptimizer\u001b[0m\u001b[0;34m.\u001b[0m\u001b[0mzero_grad\u001b[0m\u001b[0;34m(\u001b[0m\u001b[0;34m)\u001b[0m\u001b[0;34m\u001b[0m\u001b[0m\n\u001b[0;32m---> 11\u001b[0;31m         \u001b[0mnet_out\u001b[0m \u001b[0;34m=\u001b[0m \u001b[0mnet\u001b[0m\u001b[0;34m(\u001b[0m\u001b[0mdata\u001b[0m\u001b[0;34m)\u001b[0m\u001b[0;34m\u001b[0m\u001b[0m\n\u001b[0m\u001b[1;32m     12\u001b[0m         \u001b[0mloss\u001b[0m \u001b[0;34m=\u001b[0m \u001b[0mcriterion\u001b[0m\u001b[0;34m(\u001b[0m\u001b[0mnet_out\u001b[0m\u001b[0;34m,\u001b[0m \u001b[0mtarget\u001b[0m\u001b[0;34m)\u001b[0m\u001b[0;34m\u001b[0m\u001b[0m\n\u001b[1;32m     13\u001b[0m         \u001b[0mloss\u001b[0m\u001b[0;34m.\u001b[0m\u001b[0mbackward\u001b[0m\u001b[0;34m(\u001b[0m\u001b[0;34m)\u001b[0m\u001b[0;34m\u001b[0m\u001b[0m\n",
      "\u001b[0;32m/anaconda3/envs/python36/lib/python3.6/site-packages/torch/nn/modules/module.py\u001b[0m in \u001b[0;36m__call__\u001b[0;34m(self, *input, **kwargs)\u001b[0m\n\u001b[1;32m    475\u001b[0m             \u001b[0mresult\u001b[0m \u001b[0;34m=\u001b[0m \u001b[0mself\u001b[0m\u001b[0;34m.\u001b[0m\u001b[0m_slow_forward\u001b[0m\u001b[0;34m(\u001b[0m\u001b[0;34m*\u001b[0m\u001b[0minput\u001b[0m\u001b[0;34m,\u001b[0m \u001b[0;34m**\u001b[0m\u001b[0mkwargs\u001b[0m\u001b[0;34m)\u001b[0m\u001b[0;34m\u001b[0m\u001b[0m\n\u001b[1;32m    476\u001b[0m         \u001b[0;32melse\u001b[0m\u001b[0;34m:\u001b[0m\u001b[0;34m\u001b[0m\u001b[0m\n\u001b[0;32m--> 477\u001b[0;31m             \u001b[0mresult\u001b[0m \u001b[0;34m=\u001b[0m \u001b[0mself\u001b[0m\u001b[0;34m.\u001b[0m\u001b[0mforward\u001b[0m\u001b[0;34m(\u001b[0m\u001b[0;34m*\u001b[0m\u001b[0minput\u001b[0m\u001b[0;34m,\u001b[0m \u001b[0;34m**\u001b[0m\u001b[0mkwargs\u001b[0m\u001b[0;34m)\u001b[0m\u001b[0;34m\u001b[0m\u001b[0m\n\u001b[0m\u001b[1;32m    478\u001b[0m         \u001b[0;32mfor\u001b[0m \u001b[0mhook\u001b[0m \u001b[0;32min\u001b[0m \u001b[0mself\u001b[0m\u001b[0;34m.\u001b[0m\u001b[0m_forward_hooks\u001b[0m\u001b[0;34m.\u001b[0m\u001b[0mvalues\u001b[0m\u001b[0;34m(\u001b[0m\u001b[0;34m)\u001b[0m\u001b[0;34m:\u001b[0m\u001b[0;34m\u001b[0m\u001b[0m\n\u001b[1;32m    479\u001b[0m             \u001b[0mhook_result\u001b[0m \u001b[0;34m=\u001b[0m \u001b[0mhook\u001b[0m\u001b[0;34m(\u001b[0m\u001b[0mself\u001b[0m\u001b[0;34m,\u001b[0m \u001b[0minput\u001b[0m\u001b[0;34m,\u001b[0m \u001b[0mresult\u001b[0m\u001b[0;34m)\u001b[0m\u001b[0;34m\u001b[0m\u001b[0m\n",
      "\u001b[0;32m/anaconda3/envs/python36/lib/python3.6/site-packages/torch/nn/modules/module.py\u001b[0m in \u001b[0;36mforward\u001b[0;34m(self, *input)\u001b[0m\n\u001b[1;32m     81\u001b[0m             \u001b[0mregistered\u001b[0m \u001b[0mhooks\u001b[0m \u001b[0;32mwhile\u001b[0m \u001b[0mthe\u001b[0m \u001b[0mlatter\u001b[0m \u001b[0msilently\u001b[0m \u001b[0mignores\u001b[0m \u001b[0mthem\u001b[0m\u001b[0;34m.\u001b[0m\u001b[0;34m\u001b[0m\u001b[0m\n\u001b[1;32m     82\u001b[0m         \"\"\"\n\u001b[0;32m---> 83\u001b[0;31m         \u001b[0;32mraise\u001b[0m \u001b[0mNotImplementedError\u001b[0m\u001b[0;34m\u001b[0m\u001b[0m\n\u001b[0m\u001b[1;32m     84\u001b[0m \u001b[0;34m\u001b[0m\u001b[0m\n\u001b[1;32m     85\u001b[0m     \u001b[0;32mdef\u001b[0m \u001b[0mregister_buffer\u001b[0m\u001b[0;34m(\u001b[0m\u001b[0mself\u001b[0m\u001b[0;34m,\u001b[0m \u001b[0mname\u001b[0m\u001b[0;34m,\u001b[0m \u001b[0mtensor\u001b[0m\u001b[0;34m)\u001b[0m\u001b[0;34m:\u001b[0m\u001b[0;34m\u001b[0m\u001b[0m\n",
      "\u001b[0;31mNotImplementedError\u001b[0m: "
     ]
    }
   ],
   "source": [
    "epochs = 10\n",
    "batch_idx = 0\n",
    "for epoch in range(epochs):\n",
    "    print(epoch)\n",
    "    for batch_idx, (data, target) in enumerate(shset):\n",
    "        print(batch_idx)\n",
    "        data, target = Variable(data), Variable(target)\n",
    "        # resize data from (batch_size, 1, 28, 28) to (batch_size, 28*28)\n",
    "        data = data.view(1, 1*15)\n",
    "        optimizer.zero_grad()\n",
    "        net_out = net(data)\n",
    "        loss = criterion(net_out, target)\n",
    "        loss.backward()\n",
    "        optimizer.step()\n",
    "        if batch_idx % log_interval == 0:\n",
    "            print('Train Epoch: {} [{}/{} ({:.0f}%)]\\tLoss: {:.6f}'.format(\n",
    "                    epoch, batch_idx * len(data), len(shset.dataset),\n",
    "                           100. * batch_idx / len(train_loader), loss.data[0]))"
   ]
  },
  {
   "cell_type": "code",
   "execution_count": 107,
   "metadata": {},
   "outputs": [
    {
     "name": "stderr",
     "output_type": "stream",
     "text": [
      "Using TensorFlow backend.\n"
     ]
    }
   ],
   "source": [
    "from keras.layers import Input, Dense, Activation\n",
    "from keras.models import Model\n",
    "from keras.models import Sequential\n",
    "\n",
    "from keras.optimizers import SGD, adam, nadam, Adagrad"
   ]
  },
  {
   "cell_type": "code",
   "execution_count": 291,
   "metadata": {},
   "outputs": [],
   "source": [
    "def keras_network():\n",
    "    \n",
    "    model = Sequential()\n",
    "    model.add(Dense(28, input_shape=(28,)))\n",
    "    model.add(Dense(100))\n",
    "    model.add(Activation(\"relu\"))\n",
    "    model.add(Dense(50))\n",
    "    model.add(Activation(\"relu\"))\n",
    "    model.add(Dense(50))\n",
    "    model.add(Activation(\"relu\"))\n",
    "    model.add(Dense(200))\n",
    "    #model.add(Activation(\"relu\"))\n",
    "    model.add(Dense(15))\n",
    "\n",
    "    model.compile(loss='mse', optimizer='RMSProp', metrics=['mse','mae'])\n",
    "    model.summary()\n",
    "    return model"
   ]
  },
  {
   "cell_type": "code",
   "execution_count": 292,
   "metadata": {},
   "outputs": [],
   "source": [
    "def train_keras(model, X, y, val_size=0.1, n_epoch=1000):\n",
    "    \n",
    "    model.fit(X,y, epochs=n_epoch, batch_size=10000, verbose=1, shuffle=True, validation_split=val_size)\n",
    "    return model"
   ]
  },
  {
   "cell_type": "code",
   "execution_count": 308,
   "metadata": {},
   "outputs": [
    {
     "name": "stdout",
     "output_type": "stream",
     "text": [
      "_________________________________________________________________\n",
      "Layer (type)                 Output Shape              Param #   \n",
      "=================================================================\n",
      "dense_131 (Dense)            (None, 28)                812       \n",
      "_________________________________________________________________\n",
      "dense_132 (Dense)            (None, 100)               2900      \n",
      "_________________________________________________________________\n",
      "activation_69 (Activation)   (None, 100)               0         \n",
      "_________________________________________________________________\n",
      "dense_133 (Dense)            (None, 50)                5050      \n",
      "_________________________________________________________________\n",
      "activation_70 (Activation)   (None, 50)                0         \n",
      "_________________________________________________________________\n",
      "dense_134 (Dense)            (None, 50)                2550      \n",
      "_________________________________________________________________\n",
      "activation_71 (Activation)   (None, 50)                0         \n",
      "_________________________________________________________________\n",
      "dense_135 (Dense)            (None, 200)               10200     \n",
      "_________________________________________________________________\n",
      "dense_136 (Dense)            (None, 15)                3015      \n",
      "=================================================================\n",
      "Total params: 24,527\n",
      "Trainable params: 24,527\n",
      "Non-trainable params: 0\n",
      "_________________________________________________________________\n"
     ]
    }
   ],
   "source": [
    "model_D = keras_network()"
   ]
  },
  {
   "cell_type": "code",
   "execution_count": null,
   "metadata": {},
   "outputs": [],
   "source": [
    "X[np.isnan(X)] = 0\n",
    "Y[np.isnan(Y)] = 0\n",
    "X[np.isinf(X)] = 0\n",
    "Y[np.isinf(Y)] = 0"
   ]
  },
  {
   "cell_type": "code",
   "execution_count": 295,
   "metadata": {},
   "outputs": [],
   "source": [
    "#X = np.random.random((num, 28))\n",
    "#Y = np.random.random((num, 15))"
   ]
  },
  {
   "cell_type": "code",
   "execution_count": 309,
   "metadata": {},
   "outputs": [],
   "source": [
    "\n",
    "\n",
    "X = np.random.uniform(low=-5e-5, high=5e-5,size=(num, 28))\n",
    "Y = np.random.uniform(low=-5e-5, high=5e-5,size=(num, 15))"
   ]
  },
  {
   "cell_type": "code",
   "execution_count": 310,
   "metadata": {},
   "outputs": [
    {
     "data": {
      "text/plain": [
       "array([[-2.25302469e-05,  2.31159493e-07, -9.05797722e-06, ...,\n",
       "        -8.58872694e-06,  2.63106250e-05,  3.66547571e-05],\n",
       "       [ 3.44056969e-05, -4.92702453e-05,  4.79636582e-06, ...,\n",
       "         1.11350236e-05, -1.44882474e-05,  1.35976231e-05],\n",
       "       [ 1.84436599e-05,  2.94361567e-05,  3.90459702e-06, ...,\n",
       "         1.45529469e-05, -1.81290570e-05, -4.18433110e-05],\n",
       "       ...,\n",
       "       [ 1.17135193e-05, -4.58465176e-05,  3.29944169e-05, ...,\n",
       "        -2.37181695e-05,  4.51175844e-05,  2.07977493e-05],\n",
       "       [ 3.14390262e-05,  4.87663588e-05, -4.48239553e-05, ...,\n",
       "         3.60280949e-05,  3.13167144e-05, -4.81216957e-05],\n",
       "       [-4.88592614e-05, -4.17207396e-05,  3.98204767e-05, ...,\n",
       "         2.90241279e-05, -4.86473138e-05,  4.79541779e-05]])"
      ]
     },
     "execution_count": 310,
     "metadata": {},
     "output_type": "execute_result"
    }
   ],
   "source": [
    "X"
   ]
  },
  {
   "cell_type": "code",
   "execution_count": 311,
   "metadata": {},
   "outputs": [
    {
     "name": "stdout",
     "output_type": "stream",
     "text": [
      "Train on 75928 samples, validate on 8437 samples\n",
      "Epoch 1/10\n",
      "75928/75928 [==============================] - 1s 15us/step - loss: 3.2692e-05 - mean_squared_error: 3.2692e-05 - mean_absolute_error: 0.0044 - val_loss: 2.2715e-05 - val_mean_squared_error: 2.2715e-05 - val_mean_absolute_error: 0.0040\n",
      "Epoch 2/10\n",
      "75928/75928 [==============================] - 0s 3us/step - loss: 1.4509e-05 - mean_squared_error: 1.4509e-05 - mean_absolute_error: 0.0032 - val_loss: 6.7650e-06 - val_mean_squared_error: 6.7650e-06 - val_mean_absolute_error: 0.0022\n",
      "Epoch 3/10\n",
      "75928/75928 [==============================] - 0s 3us/step - loss: 4.5139e-06 - mean_squared_error: 4.5139e-06 - mean_absolute_error: 0.0017 - val_loss: 5.3265e-06 - val_mean_squared_error: 5.3265e-06 - val_mean_absolute_error: 0.0019\n",
      "Epoch 4/10\n",
      "75928/75928 [==============================] - 0s 4us/step - loss: 6.5200e-06 - mean_squared_error: 6.5200e-06 - mean_absolute_error: 0.0021 - val_loss: 1.4013e-05 - val_mean_squared_error: 1.4013e-05 - val_mean_absolute_error: 0.0032\n",
      "Epoch 5/10\n",
      "75928/75928 [==============================] - 0s 4us/step - loss: 1.0307e-05 - mean_squared_error: 1.0307e-05 - mean_absolute_error: 0.0027 - val_loss: 7.5208e-06 - val_mean_squared_error: 7.5208e-06 - val_mean_absolute_error: 0.0024\n",
      "Epoch 6/10\n",
      "75928/75928 [==============================] - 0s 4us/step - loss: 8.4993e-06 - mean_squared_error: 8.4993e-06 - mean_absolute_error: 0.0025 - val_loss: 2.0597e-05 - val_mean_squared_error: 2.0597e-05 - val_mean_absolute_error: 0.0039\n",
      "Epoch 7/10\n",
      "75928/75928 [==============================] - 0s 4us/step - loss: 7.6570e-06 - mean_squared_error: 7.6570e-06 - mean_absolute_error: 0.0022 - val_loss: 8.2713e-06 - val_mean_squared_error: 8.2713e-06 - val_mean_absolute_error: 0.0026\n",
      "Epoch 8/10\n",
      "75928/75928 [==============================] - 0s 4us/step - loss: 7.1850e-06 - mean_squared_error: 7.1850e-06 - mean_absolute_error: 0.0023 - val_loss: 6.6081e-06 - val_mean_squared_error: 6.6081e-06 - val_mean_absolute_error: 0.0022\n",
      "Epoch 9/10\n",
      "75928/75928 [==============================] - 0s 4us/step - loss: 7.6782e-06 - mean_squared_error: 7.6782e-06 - mean_absolute_error: 0.0023 - val_loss: 1.1121e-05 - val_mean_squared_error: 1.1121e-05 - val_mean_absolute_error: 0.0026\n",
      "Epoch 10/10\n",
      "75928/75928 [==============================] - 0s 4us/step - loss: 7.4940e-06 - mean_squared_error: 7.4940e-06 - mean_absolute_error: 0.0022 - val_loss: 9.4705e-06 - val_mean_squared_error: 9.4705e-06 - val_mean_absolute_error: 0.0025\n"
     ]
    }
   ],
   "source": [
    "model_D = train_keras(model_D,X,Y,0.1,10)"
   ]
  },
  {
   "cell_type": "code",
   "execution_count": 254,
   "metadata": {},
   "outputs": [
    {
     "name": "stdout",
     "output_type": "stream",
     "text": [
      "0\n"
     ]
    }
   ],
   "source": [
    "chk = np.isnan(Y)\n",
    "print(np.sum(chk))"
   ]
  },
  {
   "cell_type": "code",
   "execution_count": 255,
   "metadata": {},
   "outputs": [
    {
     "data": {
      "text/plain": [
       "(84365, 15)"
      ]
     },
     "execution_count": 255,
     "metadata": {},
     "output_type": "execute_result"
    }
   ],
   "source": [
    "Y.shape"
   ]
  },
  {
   "cell_type": "code",
   "execution_count": 256,
   "metadata": {},
   "outputs": [
    {
     "data": {
      "text/plain": [
       "(84365, 28)"
      ]
     },
     "execution_count": 256,
     "metadata": {},
     "output_type": "execute_result"
    }
   ],
   "source": [
    "X.shape"
   ]
  },
  {
   "cell_type": "code",
   "execution_count": 160,
   "metadata": {},
   "outputs": [
    {
     "data": {
      "text/plain": [
       "array([[ 3.31935108e-01, -1.62949245e-02, -1.75707005e-02, ...,\n",
       "         1.30695011e-03,  1.53167825e-03, -3.45649128e-03],\n",
       "       [ 4.22008395e-01, -1.61839109e-02,  1.75551195e-02, ...,\n",
       "         5.78307966e-03, -4.86385310e-03, -7.69814593e-04],\n",
       "       [ 4.09705073e-01, -2.72899829e-02, -5.67432866e-03, ...,\n",
       "         2.61530280e-04, -8.84804875e-04,  4.88408084e-04],\n",
       "       ...,\n",
       "       [ 5.01835287e-01, -6.50745537e-03,  3.47751714e-02, ...,\n",
       "        -1.56805990e-03, -1.27911568e-04,  6.38413196e-03],\n",
       "       [ 4.42578048e-01, -3.79809029e-02, -8.91749002e-03, ...,\n",
       "        -2.91226059e-03,  3.27009801e-03,  2.13469670e-04],\n",
       "       [ 3.36586356e-01, -1.90302394e-02, -1.91237833e-02, ...,\n",
       "         7.72789260e-03,  3.87520995e-03,  6.25888235e-04]])"
      ]
     },
     "execution_count": 160,
     "metadata": {},
     "output_type": "execute_result"
    }
   ],
   "source": [
    "Y"
   ]
  },
  {
   "cell_type": "code",
   "execution_count": null,
   "metadata": {},
   "outputs": [],
   "source": []
  }
 ],
 "metadata": {
  "kernelspec": {
   "display_name": "python36",
   "language": "python",
   "name": "python36"
  },
  "language_info": {
   "codemirror_mode": {
    "name": "ipython",
    "version": 3
   },
   "file_extension": ".py",
   "mimetype": "text/x-python",
   "name": "python",
   "nbconvert_exporter": "python",
   "pygments_lexer": "ipython3",
   "version": "3.6.6"
  }
 },
 "nbformat": 4,
 "nbformat_minor": 2
}
